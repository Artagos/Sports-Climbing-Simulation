{
 "cells": [
  {
   "cell_type": "markdown",
   "metadata": {},
   "source": [
    "# Proyecto de Simulacio de la Escalada Deportiva\n",
    "***Alejandro Lamelas Delgado***\n",
    "\n",
    "***Mauro Campver Barrios***\n",
    "\n",
    "## ¿Qué es la Escalada Deportiva?\n",
    "\n",
    "\n",
    "La escalada deportiva es una modalidad de escalada que se practica en paredes de roca natural o en muros artificiales. En esta modalidad, los escaladores ascienden rutas predefinidas utilizando anclajes fijos distribuidos a lo largo de la ruta. Estos anclajes, que incluyen chapas y parabolts, están diseñados para proteger al escalador en caso de caída. La escalada deportiva se caracteriza por centrarse en la dificultad técnica y física de la escalada, con un enfoque en la fuerza, la flexibilidad, la técnica y la resistencia del escalador.\n",
    "\n",
    "### Modalidades\n",
    "***- Boulder:***\n",
    "\n",
    "En Boulder, los atletas escalan muros de 4,5m de altura sin cuerdas en un tiempo limitado y en el menor número de intentos posible, las puntuaciones constan de 4 digitos, el primero es la cantidad de rutas o problemas completados por el atleta(topes), el segundo la cantidad de zonas que alcanzó, que son el punto medio de un problema, y los últimos 2 digitos son los los intentos de alcanzar topes y zonas respectivamente.\n",
    "\n",
    "***- Leader:***\n",
    "\n",
    "En la disciplina de Lead, los atletas escalan lo más alto que pueden una pared de más de 15m de altura en seis minutos sin haber visto la ruta con antelación. Las rutas para este evento son cada vez más complejas y desafiantes a lo largo de la prueba, requiriendo todas las habilidades físicas y mentales de los atletas.\n",
    "\n",
    "***- Speed:***\n",
    "\n",
    "La modalidad Speed es una espectacular carrera contrarreloj en rondas eliminatorias de uno contra uno que combinan precisión y explosividad, los puntajes estan dados por el tiempo.\n",
    "\n",
    "\n",
    "## Objetivos del Proyecto\n",
    "\n",
    "En este proyecto nos propusimos simular las modalidades ***Speed*** y ***Boulder*** para intentar predecir los 8 primeros puestos en dichas disciplinas en las olimpiadas 2024, utilizando para esto los datos oficiales de las puntuaciones registradas en la página https://ifsc-climbing.org/ de los eventos ocurridos desde 2022 hasta la fecha, obtenidos a través de un exhaustivo scrapeo mayormente hecho a mano puesto que el funcionamiento de la página deja mucho que desear.\n",
    "\n",
    "\n"
   ]
  },
  {
   "cell_type": "markdown",
   "metadata": {},
   "source": [
    "### Lectura de Datos\n",
    "Nuestros datos fueron extraidos en formato json, todos se encuentran en la carpeta data y los importamos ya procesados y separados por sexo en la variable `athletes_points` para centrarnos en los detalles de la simulación. Cada atleta posee un array de puntos por cada modalidad, estos puntos los utilizaremos para hallar una funcion de densidad."
   ]
  },
  {
   "cell_type": "code",
   "execution_count": 10,
   "metadata": {},
   "outputs": [],
   "source": [
    "import sys\n",
    "from dataReading import athletes_points\n"
   ]
  },
  {
   "cell_type": "markdown",
   "metadata": {},
   "source": [
    "## Función de Densidad\n",
    "Una vez con los datos a nuestra disposición nos damos cuenta que no conocemos la distribución que tienen las puntuaciones de los atletas en las distintas disciplinas. Para solucionar esto utilizamos la estimacion de la densidad de Kernel (KDE).\n",
    "\n",
    "***KDE:***\n",
    "Es la aplicación del suavizado de kernel para la estimación de la densidad de probabilidad, es decir, un método no paramétrico para estimar la función de densidad de probabilidad de una variable aleatoria basada en kernels como pesos. KDE responde a un problema fundamental de suavizado de datos en el que se hacen inferencias sobre la población, basándose en una muestra finita de datos.\n",
    "\n",
    "Nos auxiliamos de la biblioteca `sklearn` \n",
    "\n",
    "Al trabajar con KDE hay que definir 2 elementos clave, la función que se utilizará como kernel y el ancho de banda (bandwidth).\n",
    "\n",
    "El ancho de banda lo escogimos utilizando cross validation con el metodo de `GridSearchCV` de `sklearn` y para el kernel escogimos Tophat pues los resultados que arrojó nos parecieron mas coherentes\n",
    "\n",
    "\n"
   ]
  },
  {
   "cell_type": "code",
   "execution_count": 11,
   "metadata": {},
   "outputs": [
    {
     "ename": "ModuleNotFoundError",
     "evalue": "No module named 'sklearn'",
     "output_type": "error",
     "traceback": [
      "\u001b[1;31m---------------------------------------------------------------------------\u001b[0m",
      "\u001b[1;31mModuleNotFoundError\u001b[0m                       Traceback (most recent call last)",
      "Cell \u001b[1;32mIn[11], line 5\u001b[0m\n\u001b[0;32m      3\u001b[0m \u001b[38;5;28;01mimport\u001b[39;00m \u001b[38;5;21;01mmath\u001b[39;00m\n\u001b[0;32m      4\u001b[0m \u001b[38;5;28;01mimport\u001b[39;00m \u001b[38;5;21;01mnumpy\u001b[39;00m \u001b[38;5;28;01mas\u001b[39;00m \u001b[38;5;21;01mnp\u001b[39;00m\n\u001b[1;32m----> 5\u001b[0m \u001b[38;5;28;01mfrom\u001b[39;00m \u001b[38;5;21;01msklearn\u001b[39;00m\u001b[38;5;21;01m.\u001b[39;00m\u001b[38;5;21;01mneighbors\u001b[39;00m \u001b[38;5;28;01mimport\u001b[39;00m KernelDensity\n\u001b[0;32m      6\u001b[0m \u001b[38;5;28;01mfrom\u001b[39;00m \u001b[38;5;21;01msklearn\u001b[39;00m\u001b[38;5;21;01m.\u001b[39;00m\u001b[38;5;21;01mmodel_selection\u001b[39;00m \u001b[38;5;28;01mimport\u001b[39;00m GridSearchCV\n\u001b[0;32m     10\u001b[0m \u001b[38;5;28;01mdef\u001b[39;00m \u001b[38;5;21mCalcKde\u001b[39m(points,discipline):\n\u001b[0;32m     11\u001b[0m     \u001b[38;5;66;03m# Anchos de banda para escoger el mejor\u001b[39;00m\n",
      "\u001b[1;31mModuleNotFoundError\u001b[0m: No module named 'sklearn'"
     ]
    }
   ],
   "source": [
    "import pandas as pd\n",
    "import calendar, datetime\n",
    "import math\n",
    "import numpy as np\n",
    "from sklearn.neighbors import KernelDensity\n",
    "from sklearn.model_selection import GridSearchCV\n",
    "\n",
    "\n",
    "\n",
    "def CalcKde(points,discipline):\n",
    "    # Anchos de banda para escoger el mejor\n",
    "    bandwidths = np.logspace(-1, 1, 20)\n",
    "    \n",
    "    param_grid = {'bandwidth': bandwidths}\n",
    "\n",
    "    #  GridSearchCV\n",
    "    grid = GridSearchCV(KernelDensity(), param_grid, cv=min(5, len(points)))\n",
    "    grid.fit(points)\n",
    "\n",
    "    # Mejor ancho de banda encontrado\n",
    "    best_bandwidth = grid.best_estimator_.bandwidth\n",
    "    \n",
    "\n",
    "    return KernelDensity(kernel=\"tophat\", bandwidth=best_bandwidth).fit(points)"
   ]
  },
  {
   "cell_type": "markdown",
   "metadata": {},
   "source": [
    "### Relevancia de las puntuaciones\n",
    "\n",
    "Al hallar cada Funcion de densidad modificamos los datos, dandole mayor relevancia a los atletas con mayor cantidad de puntuaciones registradas, esto lo conseguimos multiplicandole a cada puntuación de un atleta en una disciplina un $Pval=(1 - \\frac{\\alpha}{cantPtos})$. Los ${\\alpha}$ los escogimos tanteando y buscando quitarnos atletas poco confiables que tenian pocas marcas y en nuestras simulaciones aparecian alto en el ranking."
   ]
  },
  {
   "cell_type": "code",
   "execution_count": null,
   "metadata": {},
   "outputs": [],
   "source": [
    "##Funcion que modificara los puntos de los atletas en funcion de la cantidad de competiciones que hayan realizado\n",
    "\n",
    "def modify_scores_based_on_cuantity(points,discipline):\n",
    "    \n",
    "    ##Para la disciplina de boulder se uso un alpha de 2 y -2 por la forma en que se puntua \n",
    "    if discipline=='boulder':\n",
    "        alpha=2\n",
    "        pondVal_first_two_comp=(1-alpha/len(points))\n",
    "        pondVal_last_two_comp=(1+alpha/len(points))\n",
    "        for vector in points:\n",
    "            for i in range(2):\n",
    "                vector[i]= vector[i]*pondVal_first_two_comp\n",
    "                vector[i+2]= vector[i+2]*pondVal_last_two_comp\n",
    "    ###Para la disciplina de speed se uso un alpha de 4 \n",
    "    else:\n",
    "        \n",
    "        alpha=4\n",
    "        pondVal=(1+alpha/len(points))\n",
    "        for time in points:\n",
    "            time=time*pondVal\n",
    "\n",
    "\n",
    "##Funcion que devuelve el KDE de los atletas en cada disciplina en caso de que hayan competido y tengan\n",
    "##mas de una puntuación registrada\n",
    "def KDE_for_athlete(athletes_points):\n",
    "    athletes_kde={}\n",
    "    for athlete in athletes_points:\n",
    "        if athlete not in athletes_kde:\n",
    "            athletes_kde[athlete]={}\n",
    "        for discipline in athletes_points[athlete]:\n",
    "            if(len(athletes_points[athlete][discipline])>1 and discipline != 'lead'):\n",
    "                \n",
    "                ##Se modifican los puntos\n",
    "                modify_scores_based_on_cuantity(athletes_points[athlete][discipline],discipline)\n",
    "                \n",
    "                if discipline == 'speed':\n",
    "                    athletes_kde[athlete][discipline]=CalcKde(np.array(athletes_points[athlete][discipline]).reshape(-1,1),discipline);\n",
    "                    continue;\n",
    "                athletes_kde[athlete][discipline]=CalcKde(athletes_points[athlete][discipline],discipline);\n",
    "    return athletes_kde\n",
    "    "
   ]
  },
  {
   "cell_type": "markdown",
   "metadata": {},
   "source": [
    "## Simulacion\n",
    "\n",
    "Para simular el evento (calificacion y final) usamos las funciones de probabilad de densidad que ya mostramos, esto lo hacemos 1000 veces y nuestro top 8 propuesto como predicción lo formamos basandonos en las posiciones obtenidas (se ordenan por la cantidad de primeros lugares obtenidos, si dos tienen la misma cantidad pues se miran los segundos lugares y asi sucesivamente). Para mayor comodidad esto último lo implementamos por medio de un heap de maximo donde la prioridad esta definida por los rankings como explicamos anteriormente."
   ]
  },
  {
   "cell_type": "code",
   "execution_count": null,
   "metadata": {},
   "outputs": [
    {
     "ename": "ModuleNotFoundError",
     "evalue": "No module named 'sklearn'",
     "output_type": "error",
     "traceback": [
      "\u001b[1;31m---------------------------------------------------------------------------\u001b[0m",
      "\u001b[1;31mModuleNotFoundError\u001b[0m                       Traceback (most recent call last)",
      "Cell \u001b[1;32mIn[7], line 3\u001b[0m\n\u001b[0;32m      1\u001b[0m \u001b[38;5;28;01mfrom\u001b[39;00m \u001b[38;5;21;01mheapImplementation\u001b[39;00m \u001b[38;5;28;01mimport\u001b[39;00m MaxHeap\n\u001b[0;32m      2\u001b[0m \u001b[38;5;28;01mfrom\u001b[39;00m \u001b[38;5;21;01mfunctools\u001b[39;00m \u001b[38;5;28;01mimport\u001b[39;00m cmp_to_key\n\u001b[1;32m----> 3\u001b[0m \u001b[38;5;28;01mfrom\u001b[39;00m \u001b[38;5;21;01mEventsSimulation\u001b[39;00m \u001b[38;5;28;01mimport\u001b[39;00m simulate_event\n",
      "File \u001b[1;32mc:\\Users\\ritae\\OneDrive\\Documents\\Simulacion\\Simulacion ^ IA\\Sports Climbing Simulation\\EventsSimulation.py:3\u001b[0m\n\u001b[0;32m      1\u001b[0m \u001b[38;5;28;01mimport\u001b[39;00m \u001b[38;5;21;01mnumpy\u001b[39;00m \u001b[38;5;28;01mas\u001b[39;00m \u001b[38;5;21;01mnp\u001b[39;00m\n\u001b[0;32m      2\u001b[0m \u001b[38;5;28;01mfrom\u001b[39;00m \u001b[38;5;21;01mheapImplementation\u001b[39;00m \u001b[38;5;28;01mimport\u001b[39;00m Item,PriorityArray,MaxHeap\n\u001b[1;32m----> 3\u001b[0m \u001b[38;5;28;01mfrom\u001b[39;00m \u001b[38;5;21;01mKDE_calculations\u001b[39;00m \u001b[38;5;28;01mimport\u001b[39;00m KDE_for_athlete;\n\u001b[0;32m      4\u001b[0m \u001b[38;5;28;01mfrom\u001b[39;00m \u001b[38;5;21;01mfunctools\u001b[39;00m \u001b[38;5;28;01mimport\u001b[39;00m cmp_to_key\n\u001b[0;32m      5\u001b[0m \u001b[38;5;28;01mfrom\u001b[39;00m \u001b[38;5;21;01mdataReading\u001b[39;00m \u001b[38;5;28;01mimport\u001b[39;00m athletes_points;\n",
      "File \u001b[1;32mc:\\Users\\ritae\\OneDrive\\Documents\\Simulacion\\Simulacion ^ IA\\Sports Climbing Simulation\\KDE_calculations.py:8\u001b[0m\n\u001b[0;32m      6\u001b[0m \u001b[38;5;28;01mimport\u001b[39;00m \u001b[38;5;21;01mseaborn\u001b[39;00m \u001b[38;5;28;01mas\u001b[39;00m \u001b[38;5;21;01msns\u001b[39;00m\n\u001b[0;32m      7\u001b[0m \u001b[38;5;28;01mfrom\u001b[39;00m \u001b[38;5;21;01mmatplotlib\u001b[39;00m \u001b[38;5;28;01mimport\u001b[39;00m pyplot \u001b[38;5;28;01mas\u001b[39;00m plt\n\u001b[1;32m----> 8\u001b[0m \u001b[38;5;28;01mfrom\u001b[39;00m \u001b[38;5;21;01msklearn\u001b[39;00m\u001b[38;5;21;01m.\u001b[39;00m\u001b[38;5;21;01mneighbors\u001b[39;00m \u001b[38;5;28;01mimport\u001b[39;00m KernelDensity\n\u001b[0;32m      9\u001b[0m \u001b[38;5;28;01mfrom\u001b[39;00m \u001b[38;5;21;01msklearn\u001b[39;00m\u001b[38;5;21;01m.\u001b[39;00m\u001b[38;5;21;01mmodel_selection\u001b[39;00m \u001b[38;5;28;01mimport\u001b[39;00m GridSearchCV\n\u001b[0;32m     11\u001b[0m \u001b[38;5;28;01mdef\u001b[39;00m \u001b[38;5;21mCalcKde\u001b[39m(points,discipline):\n",
      "\u001b[1;31mModuleNotFoundError\u001b[0m: No module named 'sklearn'"
     ]
    }
   ],
   "source": [
    "from heapImplementation import MaxHeap\n",
    "from functools import cmp_to_key\n",
    "from EventsSimulation import simulate_event\n",
    "\n",
    "max_heap_boulder_men = MaxHeap()\n",
    "\n",
    "max_heap_boulder_women = MaxHeap()\n",
    "\n",
    "max_heap_speed_men = MaxHeap()\n",
    "\n",
    "max_heap_speed_women = MaxHeap()\n",
    "\n",
    "men_athletes_kde = KDE_for_athlete(athletes_points['men'])\n",
    "\n",
    "women_athletes_kde = KDE_for_athlete(athletes_points['women'])\n",
    "\n",
    "\n",
    "\n",
    "key_function = cmp_to_key(compare_vectors)\n",
    "\n",
    "for i in range(0,1000):\n",
    "    simulate_event(men_athletes_kde,max_heap_boulder_men,'boulder',key_function)\n",
    "    simulate_event(women_athletes_kde,max_heap_boulder_women,'boulder',key_function)\n",
    "    \n",
    "    simulate_event(men_athletes_kde,max_heap_speed_men,'speed',lambda x: x['score'])\n",
    "    simulate_event( women_athletes_kde, max_heap_speed_women,'speed',lambda x: x['score'])\n",
    "\n"
   ]
  },
  {
   "cell_type": "markdown",
   "metadata": {},
   "source": [
    "***Boulder Hombres***"
   ]
  },
  {
   "cell_type": "code",
   "execution_count": null,
   "metadata": {},
   "outputs": [],
   "source": [
    "#Top 8 de boulder masculino\n",
    "for i in range(0,8):\n",
    "    athlete= max_heap_boulder_men.pop()\n",
    "    #                   Cantidad de veces en primer lugar\n",
    "    print(athlete.name,athlete.ranks[0])"
   ]
  },
  {
   "cell_type": "markdown",
   "metadata": {},
   "source": [
    "***Boulder Mujeres***"
   ]
  },
  {
   "cell_type": "code",
   "execution_count": null,
   "metadata": {},
   "outputs": [],
   "source": [
    "#Top 8 de boulder femenino\n",
    "for i in range(0,8):\n",
    "    athlete= max_heap_boulder_women.pop()\n",
    "    #                   Cantidad de veces en primer lugar\n",
    "    print(athlete.name,athlete.ranks[0])"
   ]
  },
  {
   "cell_type": "markdown",
   "metadata": {},
   "source": [
    "***Speed Hombres***"
   ]
  },
  {
   "cell_type": "code",
   "execution_count": null,
   "metadata": {},
   "outputs": [],
   "source": [
    "#Top 8 de speed masculino\n",
    "for i in range(0,8):\n",
    "    athlete= max_heap_speed_men.pop()\n",
    "    #                   Cantidad de veces en primer lugar\n",
    "    print(athlete.name,athlete.ranks[0])"
   ]
  },
  {
   "cell_type": "markdown",
   "metadata": {},
   "source": [
    "***Speed Mujeres***"
   ]
  },
  {
   "cell_type": "code",
   "execution_count": null,
   "metadata": {},
   "outputs": [],
   "source": [
    "#Top 8 de speed femenino\n",
    "for i in range(0,8):\n",
    "    athlete= max_heap_speed_women.pop()\n",
    "    #                   Cantidad de veces en primer lugar\n",
    "    print(athlete.name,athlete.ranks[0])"
   ]
  }
 ],
 "metadata": {
  "kernelspec": {
   "display_name": "Python 3",
   "language": "python",
   "name": "python3"
  },
  "language_info": {
   "codemirror_mode": {
    "name": "ipython",
    "version": 3
   },
   "file_extension": ".py",
   "mimetype": "text/x-python",
   "name": "python",
   "nbconvert_exporter": "python",
   "pygments_lexer": "ipython3",
   "version": "3.12.2"
  }
 },
 "nbformat": 4,
 "nbformat_minor": 2
}
