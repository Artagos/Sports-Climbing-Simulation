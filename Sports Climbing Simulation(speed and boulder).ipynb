{
 "cells": [
  {
   "cell_type": "markdown",
   "metadata": {},
   "source": [
    "# Proyecto de Simulacio de la Escalada Deportiva\n",
    "***Alejandro Lamelas Delgado***\n",
    "\n",
    "***Mauro Eduardo Campver Barrios***\n",
    "\n",
    "## ¿Qué es la Escalada Deportiva?\n",
    "\n",
    "\n",
    "La escalada deportiva es una modalidad de escalada que se practica en paredes de roca natural o en muros artificiales. En esta modalidad, los escaladores ascienden rutas predefinidas utilizando anclajes fijos distribuidos a lo largo de la ruta. Estos anclajes, que incluyen chapas y parabolts, están diseñados para proteger al escalador en caso de caída. La escalada deportiva se caracteriza por centrarse en la dificultad técnica y física de la escalada, con un enfoque en la fuerza, la flexibilidad, la técnica y la resistencia del escalador.\n",
    "\n",
    "### Modalidades\n",
    "***- Boulder:***\n",
    "\n",
    "En Boulder, los atletas escalan muros de 4,5m de altura sin cuerdas en un tiempo limitado y en el menor número de intentos posible, las puntuaciones constan de 4 digitos, el primero es la cantidad de rutas o problemas completados por el atleta(topes), el segundo la cantidad de zonas que alcanzó, que son el punto medio de un problema, y los últimos 2 digitos son los los intentos de alcanzar topes y zonas respectivamente.\n",
    "\n",
    "***- Leader:***\n",
    "\n",
    "En la disciplina de Lead, los atletas escalan lo más alto que pueden una pared de más de 15m de altura en seis minutos sin haber visto la ruta con antelación. Las rutas para este evento son cada vez más complejas y desafiantes a lo largo de la prueba, requiriendo todas las habilidades físicas y mentales de los atletas.\n",
    "\n",
    "***- Speed:***\n",
    "\n",
    "La modalidad Speed es una espectacular carrera contrarreloj en rondas eliminatorias de uno contra uno que combinan precisión y explosividad, los puntajes estan dados por el tiempo.\n",
    "\n",
    "\n",
    "## Objetivos del Proyecto\n",
    "\n",
    "En este proyecto nos propusimos simular las modalidades ***Speed*** y ***Boulder*** para intentar predecir los 8 primeros puestos en dichas disciplinas en las olimpiadas 2024, utilizando para esto los datos oficiales de las puntuaciones registradas en la página https://ifsc-climbing.org/ de los eventos ocurridos desde 2022 hasta la fecha, obtenidos a través de un exhaustivo scrapeo mayormente hecho a mano puesto que el funcionamiento de la página deja mucho que desear.\n",
    "\n",
    "\n"
   ]
  },
  {
   "cell_type": "markdown",
   "metadata": {},
   "source": [
    "### Lectura de Datos\n",
    "Nuestros datos fueron extraidos en formato json, todos se encuentran en la carpeta data y los importamos ya procesados y separados por sexo en la variable `athletes_points` para centrarnos en los detalles de la simulación. Cada atleta posee un array de puntos por cada modalidad, estos puntos los utilizaremos para hallar una funcion de densidad."
   ]
  },
  {
   "cell_type": "code",
   "execution_count": 5,
   "metadata": {},
   "outputs": [],
   "source": [
    "import sys\n",
    "from dataReading import athletes_points\n"
   ]
  },
  {
   "cell_type": "markdown",
   "metadata": {},
   "source": [
    "## Función de Densidad\n",
    "Una vez con los datos a nuestra disposición nos damos cuenta que no conocemos la distribución que tienen las puntuaciones de los atletas en las distintas disciplinas. Para solucionar esto utilizamos la estimacion de la densidad de Kernel (KDE).\n",
    "\n",
    "***KDE:***\n",
    "Es la aplicación del suavizado de kernel para la estimación de la densidad de probabilidad, es decir, un método no paramétrico para estimar la función de densidad de probabilidad de una variable aleatoria basada en kernels como pesos. KDE responde a un problema fundamental de suavizado de datos en el que se hacen inferencias sobre la población, basándose en una muestra finita de datos.\n",
    "\n",
    "Nos auxiliamos de la biblioteca `sklearn` \n",
    "\n",
    "Al trabajar con KDE hay que definir 2 elementos clave, la función que se utilizará como kernel y el ancho de banda (bandwidth).\n",
    "\n",
    "El ancho de banda lo escogimos tanteando valores que nos parecion sensatos en el contexto y como función de Kernel escogimos Tophat que nos arrojó buenos resultados.\n",
    "\n",
    "\n"
   ]
  },
  {
   "cell_type": "code",
   "execution_count": 6,
   "metadata": {},
   "outputs": [],
   "source": [
    "import pandas as pd\n",
    "import calendar, datetime\n",
    "import math\n",
    "import numpy as np\n",
    "from sklearn.neighbors import KernelDensity\n",
    "from sklearn.model_selection import GridSearchCV\n",
    "\n",
    "\n",
    "\n",
    "def CalcKde(points,discipline):\n",
    "\n",
    "    best_bandwidth = 1\n",
    "    if(discipline=='boulder'):\n",
    "        best_bandwidth=2\n",
    "    \n",
    "    return KernelDensity(kernel=\"tophat\", bandwidth=best_bandwidth).fit(points)"
   ]
  },
  {
   "cell_type": "markdown",
   "metadata": {},
   "source": [
    "### Relevancia de las puntuaciones\n",
    "\n",
    "Al hallar cada Funcion de densidad modificamos los datos, dandole mayor relevancia a los atletas con mayor cantidad de puntuaciones registradas, esto lo conseguimos multiplicandole a cada puntuación de un atleta en una disciplina un $Pval=(1 - \\frac{\\alpha}{cantPtos})$. Los ${\\alpha}$ los escogimos tanteando y buscando quitarnos atletas poco confiables que tenian pocas marcas y en nuestras simulaciones aparecian alto en el ranking."
   ]
  },
  {
   "cell_type": "code",
   "execution_count": 7,
   "metadata": {},
   "outputs": [],
   "source": [
    "##Funcion que modificara los puntos de los atletas en funcion de la cantidad de competiciones que hayan realizado\n",
    "\n",
    "def modify_scores_based_on_cuantity(points,discipline):\n",
    "    \n",
    "    ##Alpha -5 para el Pval de las 2 primeras componentes y 5 para las 2 ultimas\n",
    "    if discipline=='boulder':\n",
    "        alpha=5\n",
    "        pondVal_first_two_comp=(1-alpha/len(points))\n",
    "\n",
    "        pondVal_last_two_comp=(1+alpha/len(points))\n",
    "        for vector in points:\n",
    "            for i in range(2):\n",
    "                vector[i]= max(vector[i]*pondVal_first_two_comp,0)\n",
    "                vector[i+2]= vector[i+2]*pondVal_last_two_comp\n",
    "                \n",
    "    ##Alpha 4 para la categoria speed            \n",
    "    else:\n",
    "        alpha=4\n",
    "        pondVal=(1+alpha/len(points))\n",
    "        for time in points:\n",
    "            time=time*pondVal\n",
    "\n",
    "##Funcion que devuelve el KDE de los atletas en cada disciplina en caso de que hayan competido y tengan\n",
    "##mas de una puntuación registrada\n",
    "def KDE_for_athlete(athletes_points):\n",
    "    athletes_kde={}\n",
    "    for athlete in athletes_points:\n",
    "        if athlete not in athletes_kde:\n",
    "            athletes_kde[athlete]={}\n",
    "        for discipline in athletes_points[athlete]:\n",
    "            if(len(athletes_points[athlete][discipline])>1 and discipline != 'lead'):\n",
    "                \n",
    "                ##Se modifican los puntos\n",
    "                modify_scores_based_on_cuantity(athletes_points[athlete][discipline],discipline)\n",
    "                \n",
    "                if discipline == 'speed':\n",
    "                    athletes_kde[athlete][discipline]=CalcKde(np.array(athletes_points[athlete][discipline]).reshape(-1,1),discipline);\n",
    "                    continue;\n",
    "                athletes_kde[athlete][discipline]=CalcKde(athletes_points[athlete][discipline],discipline);\n",
    "    return athletes_kde\n",
    "    "
   ]
  },
  {
   "cell_type": "markdown",
   "metadata": {},
   "source": [
    "## Simulación\n",
    "\n",
    "Para simular el evento (calificacion y final) usamos las funciones de probabilad de densidad que ya mostramos, esto lo hacemos 1000 veces y nuestro top 8 propuesto como predicción lo formamos basandonos en las posiciones obtenidas (se ordenan por la cantidad de primeros lugares obtenidos, si dos tienen la misma cantidad pues se miran los segundos lugares y asi sucesivamente). Para mayor comodidad esto último lo implementamos por medio de un heap de maximo donde la prioridad esta definida por los rankings como explicamos anteriormente."
   ]
  },
  {
   "cell_type": "code",
   "execution_count": 8,
   "metadata": {},
   "outputs": [],
   "source": [
    "from heapImplementation import MaxHeap\n",
    "from functools import cmp_to_key\n",
    "from EventsSimulation import simulate_event\n",
    "\n",
    "max_heap_boulder_men = MaxHeap()\n",
    "\n",
    "max_heap_boulder_women = MaxHeap()\n",
    "\n",
    "max_heap_speed_men = MaxHeap()\n",
    "\n",
    "max_heap_speed_women = MaxHeap()\n",
    "\n",
    "men_athletes_kde = KDE_for_athlete(athletes_points['men'])\n",
    "\n",
    "women_athletes_kde = KDE_for_athlete(athletes_points['women'])\n",
    "\n",
    "\n",
    "def compare_vectors(player1, player2):\n",
    "    \"\"\"\n",
    "    Compares two vectors of length 4 based on the specified rules: \n",
    "    *Boulder Criteria\n",
    "    \n",
    "    1. Compare first components.\n",
    "    2. If equal, compare second components.\n",
    "    3. If still equal, compare third components.\n",
    "    4. If still equal, compare fourth components.\n",
    "\n",
    "    Args:\n",
    "        vec1 (np.ndarray): First vector of length 4.\n",
    "        vec2 (np.ndarray): Second vector of length 4.\n",
    "\n",
    "    Returns:\n",
    "        int: -1 if vec1 is smaller, 1 if vec1 is larger, 0 if equal.\n",
    "    \"\"\"\n",
    "    vec1=player1['score'];\n",
    "    vec2=player2['score'];\n",
    "    \n",
    "    for i in range(2):\n",
    "        if vec1[i] < vec2[i]:\n",
    "            return 1\n",
    "        elif vec1[i] > vec2[i]:\n",
    "            return -1\n",
    "    for i in range(2):    \n",
    "        if vec1[i+2] < vec2[i+2]:\n",
    "            return -1\n",
    "        elif vec1[i+2] > vec2[i+2]:\n",
    "            return 1\n",
    "    return 0\n",
    "\n",
    "\n",
    "key_function = cmp_to_key(compare_vectors)\n",
    "\n",
    "for i in range(0,1000):\n",
    "    simulate_event(men_athletes_kde,max_heap_boulder_men,'boulder',key_function)\n",
    "    simulate_event(women_athletes_kde,max_heap_boulder_women,'boulder',key_function)\n",
    "    \n",
    "    simulate_event(men_athletes_kde,max_heap_speed_men,'speed',lambda x: x['score'])\n",
    "    simulate_event( women_athletes_kde, max_heap_speed_women,'speed',lambda x: x['score'])\n",
    "\n"
   ]
  },
  {
   "cell_type": "markdown",
   "metadata": {},
   "source": [
    "***Boulder Hombres***"
   ]
  },
  {
   "cell_type": "code",
   "execution_count": 9,
   "metadata": {},
   "outputs": [
    {
     "name": "stdout",
     "output_type": "stream",
     "text": [
      "kokoro fujii 174\n",
      "mejdi schalck 100\n",
      "yoshiyuki ogata 89\n",
      "tomoa narasaki 60\n",
      "yannick flohé 48\n",
      "antoine girard 45\n",
      "nicolai uznik 41\n",
      "sam avezou 41\n"
     ]
    }
   ],
   "source": [
    "#Top 8 de boulder masculino\n",
    "for i in range(0,8):\n",
    "    athlete= max_heap_boulder_men.pop()\n",
    "    #                   Cantidad de veces en primer lugar\n",
    "    print(athlete.name,athlete.ranks[0])"
   ]
  },
  {
   "cell_type": "markdown",
   "metadata": {},
   "source": [
    "***Boulder Mujeres***"
   ]
  },
  {
   "cell_type": "code",
   "execution_count": 10,
   "metadata": {},
   "outputs": [
    {
     "name": "stdout",
     "output_type": "stream",
     "text": [
      "iziar martínez almendros 90\n",
      "camilla moroni 66\n",
      "lisa klem 58\n",
      "natalia grossman 56\n",
      "janja garnbret 55\n",
      "chloe caulier 40\n",
      "oriane bertone 37\n",
      "giulia medici 35\n"
     ]
    }
   ],
   "source": [
    "#Top 8 de boulder femenino\n",
    "for i in range(0,8):\n",
    "    athlete= max_heap_boulder_women.pop()\n",
    "    #                   Cantidad de veces en primer lugar\n",
    "    print( athlete.name, athlete.ranks[0])"
   ]
  },
  {
   "cell_type": "markdown",
   "metadata": {},
   "source": [
    "***Speed Hombres***"
   ]
  },
  {
   "cell_type": "code",
   "execution_count": 11,
   "metadata": {},
   "outputs": [
    {
     "name": "stdout",
     "output_type": "stream",
     "text": [
      "peng wu 66\n",
      "xinshang wang 59\n",
      "jinbao long 50\n",
      "jianguo long 49\n",
      "kiromal katibin 47\n",
      "zainal aripin 42\n",
      "veddriq leonardo 41\n",
      "aditya tri syahria 37\n"
     ]
    }
   ],
   "source": [
    "#Top 8 de speed masculino\n",
    "for i in range(0,8):\n",
    "    athlete= max_heap_speed_men.pop()\n",
    "    #                   Cantidad de veces en primer lugar\n",
    "    print(athlete.name,athlete.ranks[0])"
   ]
  },
  {
   "cell_type": "markdown",
   "metadata": {},
   "source": [
    "***Speed Mujeres***"
   ]
  },
  {
   "cell_type": "code",
   "execution_count": 12,
   "metadata": {},
   "outputs": [
    {
     "name": "stdout",
     "output_type": "stream",
     "text": [
      "aleksandra miroslaw 263\n",
      "lijuan deng 126\n",
      "rajiah sallsabillah 76\n",
      "desak made rita kusuma dewi 75\n",
      "aleksandra kalucka 68\n",
      "emma hunt 58\n",
      "narda mutia amanda 50\n",
      "di niu 44\n"
     ]
    }
   ],
   "source": [
    "#Top 8 de speed femenino\n",
    "for i in range(0,8):\n",
    "    athlete= max_heap_speed_women.pop()\n",
    "    #                   Cantidad de veces en primer lugar\n",
    "    print(athlete.name,athlete.ranks[0])"
   ]
  },
  {
   "cell_type": "markdown",
   "metadata": {},
   "source": [
    "### Posibles Mejoras\n",
    "Propondre un par de ideas que con un poco más de tiempo y un mejor dataset podrian mejorar la precisión de las predicciones\n",
    "\n",
    "***-Prioridad a Fechas Recientes:***\n",
    "\n",
    "Hacer que las puntuaciones a medida que son mas cercanas a la actualidad aparezcan mas veces, asi la función de densidad que construya el KDE hará mas probable las puntuaciones mas recientes. (Los datos de las fechas no los scrapeamos)\n",
    "\n",
    "***-Funcion de Kde por Fase:***\n",
    "\n",
    "Crear una Función de densidada para cada Fase de las competencia (Calificación,Semifinal,Final) basandose en los datos registrados del atleta en la respectiva fase aumentaría considerablemente la precisión de la simulacion teniendo en cuenta que las fases mas avanzadas suelen ser mas complejas y las puntuaciones suelen ser más bajas, esto haría que la simulación del performance de un atleta se parezca muchísimo más a la realidad. (Separar los datos por fase no iba a ser tan sencillo y surge también el siguiente problema: ¿qué función de densidad le asigno a un atleta en una fase en la que nunca ha clasificado?) \n"
   ]
  }
 ],
 "metadata": {
  "kernelspec": {
   "display_name": "Python 3",
   "language": "python",
   "name": "python3"
  },
  "language_info": {
   "codemirror_mode": {
    "name": "ipython",
    "version": 3
   },
   "file_extension": ".py",
   "mimetype": "text/x-python",
   "name": "python",
   "nbconvert_exporter": "python",
   "pygments_lexer": "ipython3",
   "version": "3.12.2"
  }
 },
 "nbformat": 4,
 "nbformat_minor": 2
}
